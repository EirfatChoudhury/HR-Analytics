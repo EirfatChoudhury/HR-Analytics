{
 "cells": [
  {
   "cell_type": "markdown",
   "metadata": {},
   "source": [
    "# Links to Dataset\n",
    "\n",
    "###### Kaggle Dataset - https://www.kaggle.com/datasets/sanjanchaudhari/employees-performance-for-hr-analytics"
   ]
  },
  {
   "cell_type": "markdown",
   "metadata": {},
   "source": [
    "# Importing Modules"
   ]
  },
  {
   "cell_type": "code",
   "execution_count": 2,
   "metadata": {},
   "outputs": [],
   "source": [
    "import pypyodbc as odbc\n",
    "import pandas as pd"
   ]
  },
  {
   "cell_type": "markdown",
   "metadata": {},
   "source": [
    "# Linking to SQL Database and Converting to Pandas Dataframe"
   ]
  },
  {
   "cell_type": "markdown",
   "metadata": {},
   "source": [
    "## Linking to SQL Database"
   ]
  },
  {
   "cell_type": "code",
   "execution_count": 3,
   "metadata": {},
   "outputs": [],
   "source": [
    "DRIVER_NAME = \"SQL Server\"\n",
    "SERVER_NAME = \"LAPTOP-CT9C24F3\"\n",
    "DATABASE_NAME = \"HR Analytics\"\n",
    "\n",
    "connection_string = f\"\"\"\n",
    "    DRIVER={{{DRIVER_NAME}}};\n",
    "    SERVER={SERVER_NAME};\n",
    "    DATABASE={DATABASE_NAME};\n",
    "    Trust_Connection=yes;\n",
    "\"\"\""
   ]
  },
  {
   "cell_type": "code",
   "execution_count": 4,
   "metadata": {},
   "outputs": [],
   "source": [
    "conn = odbc.connect(connection_string)\n",
    "cursor = conn.cursor()"
   ]
  },
  {
   "cell_type": "markdown",
   "metadata": {},
   "source": [
    "### Making an empty Dataframe with the SQL Dataset Headers"
   ]
  },
  {
   "cell_type": "code",
   "execution_count": 5,
   "metadata": {},
   "outputs": [
    {
     "data": {
      "text/html": [
       "<div>\n",
       "<style scoped>\n",
       "    .dataframe tbody tr th:only-of-type {\n",
       "        vertical-align: middle;\n",
       "    }\n",
       "\n",
       "    .dataframe tbody tr th {\n",
       "        vertical-align: top;\n",
       "    }\n",
       "\n",
       "    .dataframe thead th {\n",
       "        text-align: right;\n",
       "    }\n",
       "</style>\n",
       "<table border=\"1\" class=\"dataframe\">\n",
       "  <thead>\n",
       "    <tr style=\"text-align: right;\">\n",
       "      <th></th>\n",
       "      <th>employee_id</th>\n",
       "      <th>department</th>\n",
       "      <th>region</th>\n",
       "      <th>education</th>\n",
       "      <th>gender</th>\n",
       "      <th>recruitment_channel</th>\n",
       "      <th>no_of_trainings</th>\n",
       "      <th>age</th>\n",
       "      <th>previous_year_rating</th>\n",
       "      <th>length_of_service</th>\n",
       "      <th>KPIs_met_more_than_80</th>\n",
       "      <th>awards_won</th>\n",
       "      <th>avg_training_score</th>\n",
       "    </tr>\n",
       "  </thead>\n",
       "  <tbody>\n",
       "  </tbody>\n",
       "</table>\n",
       "</div>"
      ],
      "text/plain": [
       "Empty DataFrame\n",
       "Columns: [employee_id, department, region, education, gender, recruitment_channel, no_of_trainings, age, previous_year_rating, length_of_service, KPIs_met_more_than_80, awards_won, avg_training_score]\n",
       "Index: []"
      ]
     },
     "execution_count": 5,
     "metadata": {},
     "output_type": "execute_result"
    }
   ],
   "source": [
    "res = cursor.execute(\"SELECT * FROM sys.columns WHERE object_id = OBJECT_ID('Employees')\")\n",
    "\n",
    "headers = []\n",
    "for i in res:\n",
    "    headers.append(i[1])\n",
    "\n",
    "df = pd.DataFrame(columns=headers)\n",
    "df.head()"
   ]
  },
  {
   "cell_type": "markdown",
   "metadata": {},
   "source": [
    "### Populating the Dataframe with SQL Dataset"
   ]
  },
  {
   "cell_type": "code",
   "execution_count": 6,
   "metadata": {},
   "outputs": [],
   "source": [
    "res = cursor.execute(\"SELECT * FROM Employees\")\n",
    "\n",
    "column_lists = []\n",
    "for header in headers:\n",
    "    column_lists.append([])\n",
    "\n",
    "for i in res:\n",
    "    n = 0\n",
    "    for j in i:\n",
    "        new_list = list(column_lists[n])\n",
    "        new_list.append(j)\n",
    "        column_lists[n] = new_list\n",
    "        n += 1"
   ]
  },
  {
   "cell_type": "code",
   "execution_count": 7,
   "metadata": {},
   "outputs": [
    {
     "data": {
      "text/html": [
       "<div>\n",
       "<style scoped>\n",
       "    .dataframe tbody tr th:only-of-type {\n",
       "        vertical-align: middle;\n",
       "    }\n",
       "\n",
       "    .dataframe tbody tr th {\n",
       "        vertical-align: top;\n",
       "    }\n",
       "\n",
       "    .dataframe thead th {\n",
       "        text-align: right;\n",
       "    }\n",
       "</style>\n",
       "<table border=\"1\" class=\"dataframe\">\n",
       "  <thead>\n",
       "    <tr style=\"text-align: right;\">\n",
       "      <th></th>\n",
       "      <th>employee_id</th>\n",
       "      <th>department</th>\n",
       "      <th>region</th>\n",
       "      <th>education</th>\n",
       "      <th>gender</th>\n",
       "      <th>recruitment_channel</th>\n",
       "      <th>no_of_trainings</th>\n",
       "      <th>age</th>\n",
       "      <th>previous_year_rating</th>\n",
       "      <th>length_of_service</th>\n",
       "      <th>KPIs_met_more_than_80</th>\n",
       "      <th>awards_won</th>\n",
       "      <th>avg_training_score</th>\n",
       "    </tr>\n",
       "  </thead>\n",
       "  <tbody>\n",
       "    <tr>\n",
       "      <th>0</th>\n",
       "      <td>78283.0</td>\n",
       "      <td>Operations</td>\n",
       "      <td>region_12</td>\n",
       "      <td>Bachelors</td>\n",
       "      <td>f</td>\n",
       "      <td>sourcing</td>\n",
       "      <td>1.0</td>\n",
       "      <td>28.0</td>\n",
       "      <td>3.0</td>\n",
       "      <td>4.0</td>\n",
       "      <td>0.0</td>\n",
       "      <td>0.0</td>\n",
       "      <td>57.0</td>\n",
       "    </tr>\n",
       "    <tr>\n",
       "      <th>1</th>\n",
       "      <td>7656.0</td>\n",
       "      <td>Sales &amp; Marketing</td>\n",
       "      <td>region_10</td>\n",
       "      <td>Masters &amp; above</td>\n",
       "      <td>m</td>\n",
       "      <td>other</td>\n",
       "      <td>1.0</td>\n",
       "      <td>46.0</td>\n",
       "      <td>4.0</td>\n",
       "      <td>4.0</td>\n",
       "      <td>1.0</td>\n",
       "      <td>0.0</td>\n",
       "      <td>59.0</td>\n",
       "    </tr>\n",
       "    <tr>\n",
       "      <th>2</th>\n",
       "      <td>5143.0</td>\n",
       "      <td>Operations</td>\n",
       "      <td>region_29</td>\n",
       "      <td>Bachelors</td>\n",
       "      <td>m</td>\n",
       "      <td>sourcing</td>\n",
       "      <td>1.0</td>\n",
       "      <td>35.0</td>\n",
       "      <td>4.0</td>\n",
       "      <td>6.0</td>\n",
       "      <td>1.0</td>\n",
       "      <td>0.0</td>\n",
       "      <td>64.0</td>\n",
       "    </tr>\n",
       "    <tr>\n",
       "      <th>3</th>\n",
       "      <td>2981.0</td>\n",
       "      <td>Operations</td>\n",
       "      <td>region_9</td>\n",
       "      <td>Bachelors</td>\n",
       "      <td>f</td>\n",
       "      <td>sourcing</td>\n",
       "      <td>1.0</td>\n",
       "      <td>36.0</td>\n",
       "      <td>5.0</td>\n",
       "      <td>8.0</td>\n",
       "      <td>1.0</td>\n",
       "      <td>0.0</td>\n",
       "      <td>59.0</td>\n",
       "    </tr>\n",
       "    <tr>\n",
       "      <th>4</th>\n",
       "      <td>40452.0</td>\n",
       "      <td>Sales &amp; Marketing</td>\n",
       "      <td>region_22</td>\n",
       "      <td>Masters &amp; above</td>\n",
       "      <td>m</td>\n",
       "      <td>sourcing</td>\n",
       "      <td>1.0</td>\n",
       "      <td>53.0</td>\n",
       "      <td>3.0</td>\n",
       "      <td>17.0</td>\n",
       "      <td>0.0</td>\n",
       "      <td>0.0</td>\n",
       "      <td>47.0</td>\n",
       "    </tr>\n",
       "  </tbody>\n",
       "</table>\n",
       "</div>"
      ],
      "text/plain": [
       "   employee_id         department     region        education gender  \\\n",
       "0      78283.0         Operations  region_12        Bachelors      f   \n",
       "1       7656.0  Sales & Marketing  region_10  Masters & above      m   \n",
       "2       5143.0         Operations  region_29        Bachelors      m   \n",
       "3       2981.0         Operations   region_9        Bachelors      f   \n",
       "4      40452.0  Sales & Marketing  region_22  Masters & above      m   \n",
       "\n",
       "  recruitment_channel  no_of_trainings   age  previous_year_rating  \\\n",
       "0            sourcing              1.0  28.0                   3.0   \n",
       "1               other              1.0  46.0                   4.0   \n",
       "2            sourcing              1.0  35.0                   4.0   \n",
       "3            sourcing              1.0  36.0                   5.0   \n",
       "4            sourcing              1.0  53.0                   3.0   \n",
       "\n",
       "   length_of_service  KPIs_met_more_than_80  awards_won  avg_training_score  \n",
       "0                4.0                    0.0         0.0                57.0  \n",
       "1                4.0                    1.0         0.0                59.0  \n",
       "2                6.0                    1.0         0.0                64.0  \n",
       "3                8.0                    1.0         0.0                59.0  \n",
       "4               17.0                    0.0         0.0                47.0  "
      ]
     },
     "execution_count": 7,
     "metadata": {},
     "output_type": "execute_result"
    }
   ],
   "source": [
    "n = 0\n",
    "for column in column_lists:\n",
    "    df[df[df.columns[n]].name] = column\n",
    "    n += 1\n",
    "\n",
    "df.head()"
   ]
  },
  {
   "cell_type": "markdown",
   "metadata": {},
   "source": [
    "# Data Analysis"
   ]
  },
  {
   "cell_type": "code",
   "execution_count": 8,
   "metadata": {},
   "outputs": [
    {
     "data": {
      "text/html": [
       "<div>\n",
       "<style scoped>\n",
       "    .dataframe tbody tr th:only-of-type {\n",
       "        vertical-align: middle;\n",
       "    }\n",
       "\n",
       "    .dataframe tbody tr th {\n",
       "        vertical-align: top;\n",
       "    }\n",
       "\n",
       "    .dataframe thead th {\n",
       "        text-align: right;\n",
       "    }\n",
       "</style>\n",
       "<table border=\"1\" class=\"dataframe\">\n",
       "  <thead>\n",
       "    <tr style=\"text-align: right;\">\n",
       "      <th></th>\n",
       "      <th>employee_id</th>\n",
       "      <th>department</th>\n",
       "      <th>region</th>\n",
       "      <th>education</th>\n",
       "      <th>gender</th>\n",
       "      <th>recruitment_channel</th>\n",
       "      <th>no_of_trainings</th>\n",
       "      <th>age</th>\n",
       "      <th>previous_year_rating</th>\n",
       "      <th>length_of_service</th>\n",
       "      <th>KPIs_met_more_than_80</th>\n",
       "      <th>awards_won</th>\n",
       "      <th>avg_training_score</th>\n",
       "    </tr>\n",
       "  </thead>\n",
       "  <tbody>\n",
       "    <tr>\n",
       "      <th>0</th>\n",
       "      <td>78283.0</td>\n",
       "      <td>Operations</td>\n",
       "      <td>region_12</td>\n",
       "      <td>Bachelors</td>\n",
       "      <td>f</td>\n",
       "      <td>sourcing</td>\n",
       "      <td>1.0</td>\n",
       "      <td>28.0</td>\n",
       "      <td>3.0</td>\n",
       "      <td>4.0</td>\n",
       "      <td>0.0</td>\n",
       "      <td>0.0</td>\n",
       "      <td>57.0</td>\n",
       "    </tr>\n",
       "    <tr>\n",
       "      <th>1</th>\n",
       "      <td>7656.0</td>\n",
       "      <td>Sales &amp; Marketing</td>\n",
       "      <td>region_10</td>\n",
       "      <td>Masters &amp; above</td>\n",
       "      <td>m</td>\n",
       "      <td>other</td>\n",
       "      <td>1.0</td>\n",
       "      <td>46.0</td>\n",
       "      <td>4.0</td>\n",
       "      <td>4.0</td>\n",
       "      <td>1.0</td>\n",
       "      <td>0.0</td>\n",
       "      <td>59.0</td>\n",
       "    </tr>\n",
       "    <tr>\n",
       "      <th>2</th>\n",
       "      <td>5143.0</td>\n",
       "      <td>Operations</td>\n",
       "      <td>region_29</td>\n",
       "      <td>Bachelors</td>\n",
       "      <td>m</td>\n",
       "      <td>sourcing</td>\n",
       "      <td>1.0</td>\n",
       "      <td>35.0</td>\n",
       "      <td>4.0</td>\n",
       "      <td>6.0</td>\n",
       "      <td>1.0</td>\n",
       "      <td>0.0</td>\n",
       "      <td>64.0</td>\n",
       "    </tr>\n",
       "    <tr>\n",
       "      <th>3</th>\n",
       "      <td>2981.0</td>\n",
       "      <td>Operations</td>\n",
       "      <td>region_9</td>\n",
       "      <td>Bachelors</td>\n",
       "      <td>f</td>\n",
       "      <td>sourcing</td>\n",
       "      <td>1.0</td>\n",
       "      <td>36.0</td>\n",
       "      <td>5.0</td>\n",
       "      <td>8.0</td>\n",
       "      <td>1.0</td>\n",
       "      <td>0.0</td>\n",
       "      <td>59.0</td>\n",
       "    </tr>\n",
       "    <tr>\n",
       "      <th>4</th>\n",
       "      <td>40452.0</td>\n",
       "      <td>Sales &amp; Marketing</td>\n",
       "      <td>region_22</td>\n",
       "      <td>Masters &amp; above</td>\n",
       "      <td>m</td>\n",
       "      <td>sourcing</td>\n",
       "      <td>1.0</td>\n",
       "      <td>53.0</td>\n",
       "      <td>3.0</td>\n",
       "      <td>17.0</td>\n",
       "      <td>0.0</td>\n",
       "      <td>0.0</td>\n",
       "      <td>47.0</td>\n",
       "    </tr>\n",
       "  </tbody>\n",
       "</table>\n",
       "</div>"
      ],
      "text/plain": [
       "   employee_id         department     region        education gender  \\\n",
       "0      78283.0         Operations  region_12        Bachelors      f   \n",
       "1       7656.0  Sales & Marketing  region_10  Masters & above      m   \n",
       "2       5143.0         Operations  region_29        Bachelors      m   \n",
       "3       2981.0         Operations   region_9        Bachelors      f   \n",
       "4      40452.0  Sales & Marketing  region_22  Masters & above      m   \n",
       "\n",
       "  recruitment_channel  no_of_trainings   age  previous_year_rating  \\\n",
       "0            sourcing              1.0  28.0                   3.0   \n",
       "1               other              1.0  46.0                   4.0   \n",
       "2            sourcing              1.0  35.0                   4.0   \n",
       "3            sourcing              1.0  36.0                   5.0   \n",
       "4            sourcing              1.0  53.0                   3.0   \n",
       "\n",
       "   length_of_service  KPIs_met_more_than_80  awards_won  avg_training_score  \n",
       "0                4.0                    0.0         0.0                57.0  \n",
       "1                4.0                    1.0         0.0                59.0  \n",
       "2                6.0                    1.0         0.0                64.0  \n",
       "3                8.0                    1.0         0.0                59.0  \n",
       "4               17.0                    0.0         0.0                47.0  "
      ]
     },
     "execution_count": 8,
     "metadata": {},
     "output_type": "execute_result"
    }
   ],
   "source": [
    "df.head()"
   ]
  },
  {
   "cell_type": "markdown",
   "metadata": {},
   "source": [
    "## Data Cleaning"
   ]
  },
  {
   "cell_type": "code",
   "execution_count": 9,
   "metadata": {},
   "outputs": [
    {
     "data": {
      "text/plain": [
       "(17417, 13)"
      ]
     },
     "execution_count": 9,
     "metadata": {},
     "output_type": "execute_result"
    }
   ],
   "source": [
    "df.shape"
   ]
  },
  {
   "cell_type": "code",
   "execution_count": 10,
   "metadata": {},
   "outputs": [],
   "source": [
    "df_cleaned = df.dropna()\n",
    "df_cleaned = df.drop_duplicates()"
   ]
  },
  {
   "cell_type": "code",
   "execution_count": 11,
   "metadata": {},
   "outputs": [
    {
     "data": {
      "text/plain": [
       "(17415, 13)"
      ]
     },
     "execution_count": 11,
     "metadata": {},
     "output_type": "execute_result"
    }
   ],
   "source": [
    "df_cleaned.shape"
   ]
  },
  {
   "cell_type": "markdown",
   "metadata": {},
   "source": [
    "## Data Exploration"
   ]
  },
  {
   "cell_type": "markdown",
   "metadata": {},
   "source": [
    "#### Datatypes"
   ]
  },
  {
   "cell_type": "code",
   "execution_count": 12,
   "metadata": {},
   "outputs": [
    {
     "data": {
      "text/plain": [
       "employee_id              float64\n",
       "department                object\n",
       "region                    object\n",
       "education                 object\n",
       "gender                    object\n",
       "recruitment_channel       object\n",
       "no_of_trainings          float64\n",
       "age                      float64\n",
       "previous_year_rating     float64\n",
       "length_of_service        float64\n",
       "KPIs_met_more_than_80    float64\n",
       "awards_won               float64\n",
       "avg_training_score       float64\n",
       "dtype: object"
      ]
     },
     "execution_count": 12,
     "metadata": {},
     "output_type": "execute_result"
    }
   ],
   "source": [
    "df.dtypes"
   ]
  },
  {
   "cell_type": "markdown",
   "metadata": {},
   "source": [
    "#### Departments"
   ]
  },
  {
   "cell_type": "code",
   "execution_count": 13,
   "metadata": {},
   "outputs": [
    {
     "data": {
      "text/plain": [
       "array(['Operations', 'Sales & Marketing', 'Technology', 'Procurement',\n",
       "       'Finance', 'Analytics', 'HR', 'Legal', 'R&D'], dtype=object)"
      ]
     },
     "execution_count": 13,
     "metadata": {},
     "output_type": "execute_result"
    }
   ],
   "source": [
    "df_cleaned[\"department\"].unique()"
   ]
  },
  {
   "cell_type": "markdown",
   "metadata": {},
   "source": [
    "#### Education"
   ]
  },
  {
   "cell_type": "code",
   "execution_count": 14,
   "metadata": {},
   "outputs": [
    {
     "data": {
      "text/plain": [
       "array(['Bachelors', 'Masters & above', None, 'Below Secondary'],\n",
       "      dtype=object)"
      ]
     },
     "execution_count": 14,
     "metadata": {},
     "output_type": "execute_result"
    }
   ],
   "source": [
    "df_cleaned[\"education\"].unique()"
   ]
  },
  {
   "cell_type": "markdown",
   "metadata": {},
   "source": [
    "#### Gender"
   ]
  },
  {
   "cell_type": "code",
   "execution_count": 15,
   "metadata": {},
   "outputs": [
    {
     "data": {
      "text/plain": [
       "array(['f', 'm'], dtype=object)"
      ]
     },
     "execution_count": 15,
     "metadata": {},
     "output_type": "execute_result"
    }
   ],
   "source": [
    "df_cleaned[\"gender\"].unique()"
   ]
  },
  {
   "cell_type": "markdown",
   "metadata": {},
   "source": [
    "#### Recruitment Channel"
   ]
  },
  {
   "cell_type": "code",
   "execution_count": 16,
   "metadata": {},
   "outputs": [
    {
     "data": {
      "text/plain": [
       "array(['sourcing', 'other', 'referred'], dtype=object)"
      ]
     },
     "execution_count": 16,
     "metadata": {},
     "output_type": "execute_result"
    }
   ],
   "source": [
    "df_cleaned[\"recruitment_channel\"].unique()"
   ]
  },
  {
   "cell_type": "markdown",
   "metadata": {},
   "source": [
    "## Data Analysis"
   ]
  },
  {
   "cell_type": "markdown",
   "metadata": {},
   "source": [
    "### Creation of Dataframe to easily analyse by Department"
   ]
  },
  {
   "cell_type": "code",
   "execution_count": 136,
   "metadata": {},
   "outputs": [],
   "source": [
    "departmentsDF = pd.DataFrame()\n",
    "departmentsDF[\"Departments\"] = []\n",
    "departmentsDF[\"Total Count\"] = []\n",
    "departmentsDF[\"Count as Percentage of Grand Total\"] = []\n",
    "departmentsDF[\"Bachelors Count\"] = []\n",
    "departmentsDF[\"Percentage of Bachelors\"] = []\n",
    "departmentsDF[\"Masters & above Count\"] = []\n",
    "departmentsDF[\"Percentage of Masters & above\"] = []\n",
    "departmentsDF[\"Below Secondary Count\"] = []\n",
    "departmentsDF[\"Percentage of Below Secondary\"] = []\n",
    "departmentsDF[\"Male Count\"] = []\n",
    "departmentsDF[\"Percentage of Males\"] = []\n",
    "departmentsDF[\"Female Count\"] = []\n",
    "departmentsDF[\"Percentage of Females\"] = []\n",
    "departmentsDF[\"Sourcing Count\"] = []\n",
    "departmentsDF[\"Percentage of Sourcing\"] = []\n",
    "departmentsDF[\"Referred Count\"] = []\n",
    "departmentsDF[\"Percentage of Referred\"] = []\n",
    "departmentsDF[\"Other Count\"] = []\n",
    "departmentsDF[\"Percentage of Other\"] = []\n",
    "departmentsDF[\"Mean Number of Trainings\"] = []\n",
    "departmentsDF[\"Mean Age\"] = []\n",
    "departmentsDF[\"Mean Previous Year Rating\"] = []\n",
    "departmentsDF[\"Mean Length of Service\"] = []\n",
    "departmentsDF[\"Sum of KPIs Met more than 80\"] = []\n",
    "departmentsDF[\"Sum of Awards Won\"] = []\n",
    "departmentsDF[\"Mean Average Training Score\"] = []"
   ]
  },
  {
   "cell_type": "code",
   "execution_count": 137,
   "metadata": {},
   "outputs": [
    {
     "data": {
      "text/html": [
       "<div>\n",
       "<style scoped>\n",
       "    .dataframe tbody tr th:only-of-type {\n",
       "        vertical-align: middle;\n",
       "    }\n",
       "\n",
       "    .dataframe tbody tr th {\n",
       "        vertical-align: top;\n",
       "    }\n",
       "\n",
       "    .dataframe thead th {\n",
       "        text-align: right;\n",
       "    }\n",
       "</style>\n",
       "<table border=\"1\" class=\"dataframe\">\n",
       "  <thead>\n",
       "    <tr style=\"text-align: right;\">\n",
       "      <th></th>\n",
       "      <th>Departments</th>\n",
       "      <th>Total Count</th>\n",
       "      <th>Count as Percentage of Grand Total</th>\n",
       "      <th>Bachelors Count</th>\n",
       "      <th>Percentage of Bachelors</th>\n",
       "      <th>Masters &amp; above Count</th>\n",
       "      <th>Percentage of Masters &amp; above</th>\n",
       "      <th>Below Secondary Count</th>\n",
       "      <th>Percentage of Below Secondary</th>\n",
       "      <th>Male Count</th>\n",
       "      <th>...</th>\n",
       "      <th>Percentage of Referred</th>\n",
       "      <th>Other Count</th>\n",
       "      <th>Percentage of Other</th>\n",
       "      <th>Mean Number of Trainings</th>\n",
       "      <th>Mean Age</th>\n",
       "      <th>Mean Previous Year Rating</th>\n",
       "      <th>Mean Length of Service</th>\n",
       "      <th>Sum of KPIs Met more than 80</th>\n",
       "      <th>Sum of Awards Won</th>\n",
       "      <th>Mean Average Training Score</th>\n",
       "    </tr>\n",
       "  </thead>\n",
       "  <tbody>\n",
       "    <tr>\n",
       "      <th>0</th>\n",
       "      <td>Operations</td>\n",
       "      <td>3524</td>\n",
       "      <td>20.24</td>\n",
       "      <td>2442</td>\n",
       "      <td>69.30</td>\n",
       "      <td>964</td>\n",
       "      <td>27.36</td>\n",
       "      <td>52</td>\n",
       "      <td>1.48</td>\n",
       "      <td>2062</td>\n",
       "      <td>...</td>\n",
       "      <td>1.76</td>\n",
       "      <td>1938</td>\n",
       "      <td>54.99</td>\n",
       "      <td>1.17</td>\n",
       "      <td>36.15</td>\n",
       "      <td>3.66</td>\n",
       "      <td>6.43</td>\n",
       "      <td>1553.0</td>\n",
       "      <td>89.0</td>\n",
       "      <td>60.35</td>\n",
       "    </tr>\n",
       "    <tr>\n",
       "      <th>1</th>\n",
       "      <td>Sales &amp; Marketing</td>\n",
       "      <td>5458</td>\n",
       "      <td>31.34</td>\n",
       "      <td>3600</td>\n",
       "      <td>65.96</td>\n",
       "      <td>1357</td>\n",
       "      <td>24.86</td>\n",
       "      <td>0</td>\n",
       "      <td>0.00</td>\n",
       "      <td>4435</td>\n",
       "      <td>...</td>\n",
       "      <td>1.23</td>\n",
       "      <td>3039</td>\n",
       "      <td>55.68</td>\n",
       "      <td>1.26</td>\n",
       "      <td>34.63</td>\n",
       "      <td>3.11</td>\n",
       "      <td>5.75</td>\n",
       "      <td>1513.0</td>\n",
       "      <td>120.0</td>\n",
       "      <td>50.06</td>\n",
       "    </tr>\n",
       "    <tr>\n",
       "      <th>2</th>\n",
       "      <td>Technology</td>\n",
       "      <td>2199</td>\n",
       "      <td>12.63</td>\n",
       "      <td>1381</td>\n",
       "      <td>62.80</td>\n",
       "      <td>716</td>\n",
       "      <td>32.56</td>\n",
       "      <td>70</td>\n",
       "      <td>3.18</td>\n",
       "      <td>1348</td>\n",
       "      <td>...</td>\n",
       "      <td>4.27</td>\n",
       "      <td>1228</td>\n",
       "      <td>55.84</td>\n",
       "      <td>1.25</td>\n",
       "      <td>35.03</td>\n",
       "      <td>3.16</td>\n",
       "      <td>5.84</td>\n",
       "      <td>783.0</td>\n",
       "      <td>58.0</td>\n",
       "      <td>79.85</td>\n",
       "    </tr>\n",
       "    <tr>\n",
       "      <th>3</th>\n",
       "      <td>Procurement</td>\n",
       "      <td>2240</td>\n",
       "      <td>12.86</td>\n",
       "      <td>1325</td>\n",
       "      <td>59.15</td>\n",
       "      <td>828</td>\n",
       "      <td>36.96</td>\n",
       "      <td>58</td>\n",
       "      <td>2.59</td>\n",
       "      <td>1230</td>\n",
       "      <td>...</td>\n",
       "      <td>0.89</td>\n",
       "      <td>1295</td>\n",
       "      <td>57.81</td>\n",
       "      <td>1.34</td>\n",
       "      <td>36.17</td>\n",
       "      <td>3.25</td>\n",
       "      <td>6.19</td>\n",
       "      <td>836.0</td>\n",
       "      <td>57.0</td>\n",
       "      <td>70.18</td>\n",
       "    </tr>\n",
       "    <tr>\n",
       "      <th>4</th>\n",
       "      <td>Finance</td>\n",
       "      <td>802</td>\n",
       "      <td>4.61</td>\n",
       "      <td>576</td>\n",
       "      <td>71.82</td>\n",
       "      <td>177</td>\n",
       "      <td>22.07</td>\n",
       "      <td>37</td>\n",
       "      <td>4.61</td>\n",
       "      <td>600</td>\n",
       "      <td>...</td>\n",
       "      <td>0.25</td>\n",
       "      <td>457</td>\n",
       "      <td>56.98</td>\n",
       "      <td>1.32</td>\n",
       "      <td>32.60</td>\n",
       "      <td>3.54</td>\n",
       "      <td>5.01</td>\n",
       "      <td>319.0</td>\n",
       "      <td>15.0</td>\n",
       "      <td>60.33</td>\n",
       "    </tr>\n",
       "  </tbody>\n",
       "</table>\n",
       "<p>5 rows × 26 columns</p>\n",
       "</div>"
      ],
      "text/plain": [
       "         Departments  Total Count  Count as Percentage of Grand Total  \\\n",
       "0         Operations         3524                               20.24   \n",
       "1  Sales & Marketing         5458                               31.34   \n",
       "2         Technology         2199                               12.63   \n",
       "3        Procurement         2240                               12.86   \n",
       "4            Finance          802                                4.61   \n",
       "\n",
       "   Bachelors Count  Percentage of Bachelors  Masters & above Count  \\\n",
       "0             2442                    69.30                    964   \n",
       "1             3600                    65.96                   1357   \n",
       "2             1381                    62.80                    716   \n",
       "3             1325                    59.15                    828   \n",
       "4              576                    71.82                    177   \n",
       "\n",
       "   Percentage of Masters & above  Below Secondary Count  \\\n",
       "0                          27.36                     52   \n",
       "1                          24.86                      0   \n",
       "2                          32.56                     70   \n",
       "3                          36.96                     58   \n",
       "4                          22.07                     37   \n",
       "\n",
       "   Percentage of Below Secondary  Male Count  ...  Percentage of Referred  \\\n",
       "0                           1.48        2062  ...                    1.76   \n",
       "1                           0.00        4435  ...                    1.23   \n",
       "2                           3.18        1348  ...                    4.27   \n",
       "3                           2.59        1230  ...                    0.89   \n",
       "4                           4.61         600  ...                    0.25   \n",
       "\n",
       "   Other Count  Percentage of Other  Mean Number of Trainings  Mean Age  \\\n",
       "0         1938                54.99                      1.17     36.15   \n",
       "1         3039                55.68                      1.26     34.63   \n",
       "2         1228                55.84                      1.25     35.03   \n",
       "3         1295                57.81                      1.34     36.17   \n",
       "4          457                56.98                      1.32     32.60   \n",
       "\n",
       "   Mean Previous Year Rating  Mean Length of Service  \\\n",
       "0                       3.66                    6.43   \n",
       "1                       3.11                    5.75   \n",
       "2                       3.16                    5.84   \n",
       "3                       3.25                    6.19   \n",
       "4                       3.54                    5.01   \n",
       "\n",
       "   Sum of KPIs Met more than 80  Sum of Awards Won  \\\n",
       "0                        1553.0               89.0   \n",
       "1                        1513.0              120.0   \n",
       "2                         783.0               58.0   \n",
       "3                         836.0               57.0   \n",
       "4                         319.0               15.0   \n",
       "\n",
       "   Mean Average Training Score  \n",
       "0                        60.35  \n",
       "1                        50.06  \n",
       "2                        79.85  \n",
       "3                        70.18  \n",
       "4                        60.33  \n",
       "\n",
       "[5 rows x 26 columns]"
      ]
     },
     "execution_count": 137,
     "metadata": {},
     "output_type": "execute_result"
    }
   ],
   "source": [
    "departments = df_cleaned[\"department\"].unique()\n",
    "\n",
    "for department in departments:\n",
    "    department_count = len(df_cleaned[df_cleaned[\"department\"] == department])\n",
    "    department_percent_GT = (department_count/len(df_cleaned)) * 100\n",
    "    bachelor_count = len(df_cleaned[(df_cleaned[\"department\"] == department) & (df_cleaned[\"education\"] == \"Bachelors\")])\n",
    "    bachelor_percent = (bachelor_count/department_count) * 100\n",
    "    masters_count = len(df_cleaned[(df_cleaned[\"department\"] == department) & (df_cleaned[\"education\"] == \"Masters & above\")])\n",
    "    masters_percent = (masters_count/department_count) * 100\n",
    "    secondary_count = len(df_cleaned[(df_cleaned[\"department\"] == department) & (df_cleaned[\"education\"] == \"Below Secondary\")])\n",
    "    secondary_percent = (secondary_count/department_count) * 100\n",
    "    male_count = len(df_cleaned[(df_cleaned[\"department\"] == department) & (df_cleaned[\"gender\"] == \"m\")])\n",
    "    male_percent = (male_count/department_count) * 100\n",
    "    female_count = len(df_cleaned[(df_cleaned[\"department\"] == department) & (df_cleaned[\"gender\"] == \"f\")])\n",
    "    female_percent = (female_count/department_count) * 100\n",
    "    sourcing_count = len(df_cleaned[(df_cleaned[\"department\"] == department) & (df_cleaned[\"recruitment_channel\"] == \"sourcing\")])\n",
    "    sourcing_percent = (sourcing_count/department_count) * 100\n",
    "    referred_count = len(df_cleaned[(df_cleaned[\"department\"] == department) & (df_cleaned[\"recruitment_channel\"] == \"referred\")])\n",
    "    referred_percent = (referred_count/department_count) * 100\n",
    "    other_count = len(df_cleaned[(df_cleaned[\"department\"] == department) & (df_cleaned[\"recruitment_channel\"] == \"other\")])\n",
    "    other_percent = (other_count/department_count) * 100\n",
    "    mean_trainings = df_cleaned.loc[df_cleaned[\"department\"] == department, \"no_of_trainings\"].mean()\n",
    "    mean_age = df_cleaned.loc[df_cleaned[\"department\"] == department, \"age\"].mean()\n",
    "    mean_previous = df_cleaned.loc[df_cleaned[\"department\"] == department, \"previous_year_rating\"].mean()\n",
    "    mean_service = df_cleaned.loc[df_cleaned[\"department\"] == department, \"length_of_service\"].mean()\n",
    "    sum_KPI = df_cleaned.loc[df_cleaned[\"department\"] == department, \"KPIs_met_more_than_80\"].sum()\n",
    "    sum_awards = df_cleaned.loc[df_cleaned[\"department\"] == department, \"awards_won\"].sum()\n",
    "    mean_score = df_cleaned.loc[df_cleaned[\"department\"] == department, \"avg_training_score\"].mean()\n",
    "\n",
    "    row = [department, department_count, department_percent_GT, \n",
    "           bachelor_count, bachelor_percent, masters_count, masters_percent, secondary_count, secondary_percent, \n",
    "           male_count, male_percent, female_count, female_percent, \n",
    "           sourcing_count, sourcing_percent, referred_count, referred_percent, other_count, other_percent, \n",
    "           mean_trainings, mean_age, mean_previous, mean_service, sum_KPI, sum_awards, mean_score]\n",
    "    departmentsDF.loc[len(departmentsDF)] = row\n",
    "\n",
    "departmentsDF = departmentsDF.round(2)\n",
    "departmentsDF.head()"
   ]
  }
 ],
 "metadata": {
  "kernelspec": {
   "display_name": "Python 3",
   "language": "python",
   "name": "python3"
  },
  "language_info": {
   "codemirror_mode": {
    "name": "ipython",
    "version": 3
   },
   "file_extension": ".py",
   "mimetype": "text/x-python",
   "name": "python",
   "nbconvert_exporter": "python",
   "pygments_lexer": "ipython3",
   "version": "3.10.9"
  },
  "orig_nbformat": 4
 },
 "nbformat": 4,
 "nbformat_minor": 2
}
