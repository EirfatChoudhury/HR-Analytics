{
 "cells": [
  {
   "cell_type": "markdown",
   "metadata": {},
   "source": [
    "# Links to Dataset\n",
    "\n",
    "###### Kaggle Dataset - https://www.kaggle.com/datasets/sanjanchaudhari/employees-performance-for-hr-analytics"
   ]
  },
  {
   "cell_type": "code",
   "execution_count": 1,
   "metadata": {},
   "outputs": [],
   "source": [
    "import pypyodbc as odbc"
   ]
  },
  {
   "cell_type": "code",
   "execution_count": 2,
   "metadata": {},
   "outputs": [],
   "source": [
    "DRIVER_NAME = \"SQL Server\"\n",
    "SERVER_NAME = \"LAPTOP-CT9C24F3\"\n",
    "DATABASE_NAME = \"HR Analytics\"\n",
    "\n",
    "connection_string = f\"\"\"\n",
    "    DRIVER={{{DRIVER_NAME}}};\n",
    "    SERVER={SERVER_NAME};\n",
    "    DATABASE={DATABASE_NAME};\n",
    "    Trust_Connection=yes;\n",
    "\"\"\""
   ]
  },
  {
   "cell_type": "code",
   "execution_count": 3,
   "metadata": {},
   "outputs": [],
   "source": [
    "conn = odbc.connect(connection_string)\n",
    "cursor = conn.cursor()"
   ]
  },
  {
   "cell_type": "code",
   "execution_count": 20,
   "metadata": {},
   "outputs": [
    {
     "data": {
      "text/plain": [
       "<pypyodbc.Cursor at 0x1cb5f7532e0>"
      ]
     },
     "execution_count": 20,
     "metadata": {},
     "output_type": "execute_result"
    }
   ],
   "source": [
    "cursor.execute(\"SELECT * FROM Employees\")"
   ]
  },
  {
   "cell_type": "code",
   "execution_count": 21,
   "metadata": {},
   "outputs": [
    {
     "name": "stdout",
     "output_type": "stream",
     "text": [
      "(78283.0, 'Operations', 'region_12', 'Bachelors', 'f', 'sourcing', 1.0, 28.0, 3.0, 4.0, 0.0, 0.0, 57.0)\n",
      "(7656.0, 'Sales & Marketing', 'region_10', 'Masters & above', 'm', 'other', 1.0, 46.0, 4.0, 4.0, 1.0, 0.0, 59.0)\n",
      "(5143.0, 'Operations', 'region_29', 'Bachelors', 'm', 'sourcing', 1.0, 35.0, 4.0, 6.0, 1.0, 0.0, 64.0)\n",
      "(2981.0, 'Operations', 'region_9', 'Bachelors', 'f', 'sourcing', 1.0, 36.0, 5.0, 8.0, 1.0, 0.0, 59.0)\n",
      "(40452.0, 'Sales & Marketing', 'region_22', 'Masters & above', 'm', 'sourcing', 1.0, 53.0, 3.0, 17.0, 0.0, 0.0, 47.0)\n"
     ]
    }
   ],
   "source": [
    "n = 0\n",
    "for i in cursor:\n",
    "    print(i)\n",
    "    n += 1\n",
    "    if n == 5:\n",
    "        break"
   ]
  }
 ],
 "metadata": {
  "kernelspec": {
   "display_name": "Python 3",
   "language": "python",
   "name": "python3"
  },
  "language_info": {
   "codemirror_mode": {
    "name": "ipython",
    "version": 3
   },
   "file_extension": ".py",
   "mimetype": "text/x-python",
   "name": "python",
   "nbconvert_exporter": "python",
   "pygments_lexer": "ipython3",
   "version": "3.10.9"
  },
  "orig_nbformat": 4
 },
 "nbformat": 4,
 "nbformat_minor": 2
}
